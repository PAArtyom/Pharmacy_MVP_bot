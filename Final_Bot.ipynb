{
  "cells": [
    {
      "cell_type": "markdown",
      "source": [
        "## Тестирование Оригинального GigaChat"
      ],
      "metadata": {
        "id": "Yf0ULyPmTjW-"
      },
      "id": "Yf0ULyPmTjW-"
    },
    {
      "cell_type": "code",
      "source": [
        "!pip install gigachat gigachain langchain"
      ],
      "metadata": {
        "id": "LWs_KgF5TcW0"
      },
      "id": "LWs_KgF5TcW0",
      "execution_count": null,
      "outputs": []
    },
    {
      "cell_type": "code",
      "source": [
        "from langchain.schema import HumanMessage, SystemMessage\n",
        "from langchain.chat_models.gigachat import GigaChat\n",
        "from langchain.chains import ConversationChain\n",
        "\n",
        "credits = 'API_KEY'\n",
        "\n",
        "chat = GigaChat(credentials=credits, verify_ssl_certs=False,\n",
        "                profanity=True)\n",
        "\n",
        "messages = [\n",
        "    SystemMessage(\n",
        "        content=\"Ты эмпатичный бот-фармацевт, который должен помогать пользователям решать их проблемы, \\\n",
        "        руководствуясь своими знаниями или документацией. Будь аккуратен в своих ответах, рассуждай шаг за шагом. \\\n",
        "        Всегда рекомендуй в конце своего ответа обращение к настоящим специалистам\"\n",
        "    )\n",
        "]\n",
        "\n",
        "while True:\n",
        "    user_input = input(HumanMessage)\n",
        "    messages.append(HumanMessage(content=user_input))\n",
        "    res = chat(messages)\n",
        "    messages.append(res)\n",
        "    print(f\"Bot: {res.content}\")"
      ],
      "metadata": {
        "id": "uG-SAnNATf6J"
      },
      "id": "uG-SAnNATf6J",
      "execution_count": null,
      "outputs": []
    },
    {
      "cell_type": "code",
      "source": [
        "messages"
      ],
      "metadata": {
        "id": "defNdwHsTiHc"
      },
      "id": "defNdwHsTiHc",
      "execution_count": null,
      "outputs": []
    },
    {
      "cell_type": "markdown",
      "source": [
        "## Retrieval"
      ],
      "metadata": {
        "id": "uJlHU9CWYmyR"
      },
      "id": "uJlHU9CWYmyR"
    },
    {
      "cell_type": "code",
      "source": [
        "!pip install gigachat gigachain langchain"
      ],
      "metadata": {
        "colab": {
          "base_uri": "https://localhost:8080/"
        },
        "id": "_W1pYOuQdfzs",
        "outputId": "5b460dd2-3bed-4e0f-c8c4-dbdce34446fe"
      },
      "id": "_W1pYOuQdfzs",
      "execution_count": 5,
      "outputs": [
        {
          "output_type": "stream",
          "name": "stdout",
          "text": [
            "Requirement already satisfied: gigachat in /usr/local/lib/python3.10/dist-packages (0.1.8)\n",
            "Requirement already satisfied: gigachain in /usr/local/lib/python3.10/dist-packages (0.0.343)\n",
            "Requirement already satisfied: langchain in /usr/local/lib/python3.10/dist-packages (0.0.345)\n",
            "Requirement already satisfied: httpx<1 in /usr/local/lib/python3.10/dist-packages (from gigachat) (0.25.2)\n",
            "Requirement already satisfied: pydantic<3,>=1 in /usr/local/lib/python3.10/dist-packages (from gigachat) (1.10.13)\n",
            "Requirement already satisfied: PyYAML>=5.3 in /usr/local/lib/python3.10/dist-packages (from gigachain) (6.0.1)\n",
            "Requirement already satisfied: SQLAlchemy<3,>=1.4 in /usr/local/lib/python3.10/dist-packages (from gigachain) (2.0.23)\n",
            "Requirement already satisfied: aiohttp<4.0.0,>=3.8.3 in /usr/local/lib/python3.10/dist-packages (from gigachain) (3.9.1)\n",
            "Requirement already satisfied: anyio<4.0 in /usr/local/lib/python3.10/dist-packages (from gigachain) (3.7.1)\n",
            "Requirement already satisfied: async-timeout<5.0.0,>=4.0.0 in /usr/local/lib/python3.10/dist-packages (from gigachain) (4.0.3)\n",
            "Requirement already satisfied: dataclasses-json<0.7,>=0.5.7 in /usr/local/lib/python3.10/dist-packages (from gigachain) (0.6.3)\n",
            "Requirement already satisfied: gigachain-core<0.1,>=0.0.7 in /usr/local/lib/python3.10/dist-packages (from gigachain) (0.0.7)\n",
            "Requirement already satisfied: jsonpatch<2.0,>=1.33 in /usr/local/lib/python3.10/dist-packages (from gigachain) (1.33)\n",
            "Requirement already satisfied: langsmith<0.1.0,>=0.0.63 in /usr/local/lib/python3.10/dist-packages (from gigachain) (0.0.69)\n",
            "Requirement already satisfied: numpy<2,>=1 in /usr/local/lib/python3.10/dist-packages (from gigachain) (1.23.5)\n",
            "Requirement already satisfied: requests<3,>=2 in /usr/local/lib/python3.10/dist-packages (from gigachain) (2.31.0)\n",
            "Requirement already satisfied: tenacity<9.0.0,>=8.1.0 in /usr/local/lib/python3.10/dist-packages (from gigachain) (8.2.3)\n",
            "Requirement already satisfied: langchain-core<0.1,>=0.0.9 in /usr/local/lib/python3.10/dist-packages (from langchain) (0.0.9)\n",
            "Requirement already satisfied: attrs>=17.3.0 in /usr/local/lib/python3.10/dist-packages (from aiohttp<4.0.0,>=3.8.3->gigachain) (23.1.0)\n",
            "Requirement already satisfied: multidict<7.0,>=4.5 in /usr/local/lib/python3.10/dist-packages (from aiohttp<4.0.0,>=3.8.3->gigachain) (6.0.4)\n",
            "Requirement already satisfied: yarl<2.0,>=1.0 in /usr/local/lib/python3.10/dist-packages (from aiohttp<4.0.0,>=3.8.3->gigachain) (1.9.3)\n",
            "Requirement already satisfied: frozenlist>=1.1.1 in /usr/local/lib/python3.10/dist-packages (from aiohttp<4.0.0,>=3.8.3->gigachain) (1.4.0)\n",
            "Requirement already satisfied: aiosignal>=1.1.2 in /usr/local/lib/python3.10/dist-packages (from aiohttp<4.0.0,>=3.8.3->gigachain) (1.3.1)\n",
            "Requirement already satisfied: idna>=2.8 in /usr/local/lib/python3.10/dist-packages (from anyio<4.0->gigachain) (3.6)\n",
            "Requirement already satisfied: sniffio>=1.1 in /usr/local/lib/python3.10/dist-packages (from anyio<4.0->gigachain) (1.3.0)\n",
            "Requirement already satisfied: exceptiongroup in /usr/local/lib/python3.10/dist-packages (from anyio<4.0->gigachain) (1.2.0)\n",
            "Requirement already satisfied: marshmallow<4.0.0,>=3.18.0 in /usr/local/lib/python3.10/dist-packages (from dataclasses-json<0.7,>=0.5.7->gigachain) (3.20.1)\n",
            "Requirement already satisfied: typing-inspect<1,>=0.4.0 in /usr/local/lib/python3.10/dist-packages (from dataclasses-json<0.7,>=0.5.7->gigachain) (0.9.0)\n",
            "Requirement already satisfied: certifi in /usr/local/lib/python3.10/dist-packages (from httpx<1->gigachat) (2023.11.17)\n",
            "Requirement already satisfied: httpcore==1.* in /usr/local/lib/python3.10/dist-packages (from httpx<1->gigachat) (1.0.2)\n",
            "Requirement already satisfied: h11<0.15,>=0.13 in /usr/local/lib/python3.10/dist-packages (from httpcore==1.*->httpx<1->gigachat) (0.14.0)\n",
            "Requirement already satisfied: jsonpointer>=1.9 in /usr/local/lib/python3.10/dist-packages (from jsonpatch<2.0,>=1.33->gigachain) (2.4)\n",
            "Requirement already satisfied: typing-extensions>=4.2.0 in /usr/local/lib/python3.10/dist-packages (from pydantic<3,>=1->gigachat) (4.5.0)\n",
            "Requirement already satisfied: charset-normalizer<4,>=2 in /usr/local/lib/python3.10/dist-packages (from requests<3,>=2->gigachain) (3.3.2)\n",
            "Requirement already satisfied: urllib3<3,>=1.21.1 in /usr/local/lib/python3.10/dist-packages (from requests<3,>=2->gigachain) (2.0.7)\n",
            "Requirement already satisfied: greenlet!=0.4.17 in /usr/local/lib/python3.10/dist-packages (from SQLAlchemy<3,>=1.4->gigachain) (3.0.1)\n",
            "Requirement already satisfied: packaging>=17.0 in /usr/local/lib/python3.10/dist-packages (from marshmallow<4.0.0,>=3.18.0->dataclasses-json<0.7,>=0.5.7->gigachain) (23.2)\n",
            "Requirement already satisfied: mypy-extensions>=0.3.0 in /usr/local/lib/python3.10/dist-packages (from typing-inspect<1,>=0.4.0->dataclasses-json<0.7,>=0.5.7->gigachain) (1.0.0)\n"
          ]
        }
      ]
    },
    {
      "cell_type": "code",
      "source": [
        "!pip install faiss-gpu faiss-cpu sentence-transformers"
      ],
      "metadata": {
        "colab": {
          "base_uri": "https://localhost:8080/"
        },
        "id": "QUynZ29_Z-A0",
        "outputId": "b9e03eb6-b3ce-4e71-efa1-491a5e5b9e90"
      },
      "id": "QUynZ29_Z-A0",
      "execution_count": 6,
      "outputs": [
        {
          "output_type": "stream",
          "name": "stdout",
          "text": [
            "Requirement already satisfied: faiss-gpu in /usr/local/lib/python3.10/dist-packages (1.7.2)\n",
            "Requirement already satisfied: faiss-cpu in /usr/local/lib/python3.10/dist-packages (1.7.4)\n",
            "Requirement already satisfied: sentence-transformers in /usr/local/lib/python3.10/dist-packages (2.2.2)\n",
            "Requirement already satisfied: transformers<5.0.0,>=4.6.0 in /usr/local/lib/python3.10/dist-packages (from sentence-transformers) (4.35.2)\n",
            "Requirement already satisfied: tqdm in /usr/local/lib/python3.10/dist-packages (from sentence-transformers) (4.66.1)\n",
            "Requirement already satisfied: torch>=1.6.0 in /usr/local/lib/python3.10/dist-packages (from sentence-transformers) (2.1.0+cu118)\n",
            "Requirement already satisfied: torchvision in /usr/local/lib/python3.10/dist-packages (from sentence-transformers) (0.16.0+cu118)\n",
            "Requirement already satisfied: numpy in /usr/local/lib/python3.10/dist-packages (from sentence-transformers) (1.23.5)\n",
            "Requirement already satisfied: scikit-learn in /usr/local/lib/python3.10/dist-packages (from sentence-transformers) (1.2.2)\n",
            "Requirement already satisfied: scipy in /usr/local/lib/python3.10/dist-packages (from sentence-transformers) (1.11.4)\n",
            "Requirement already satisfied: nltk in /usr/local/lib/python3.10/dist-packages (from sentence-transformers) (3.8.1)\n",
            "Requirement already satisfied: sentencepiece in /usr/local/lib/python3.10/dist-packages (from sentence-transformers) (0.1.99)\n",
            "Requirement already satisfied: huggingface-hub>=0.4.0 in /usr/local/lib/python3.10/dist-packages (from sentence-transformers) (0.19.4)\n",
            "Requirement already satisfied: filelock in /usr/local/lib/python3.10/dist-packages (from huggingface-hub>=0.4.0->sentence-transformers) (3.13.1)\n",
            "Requirement already satisfied: fsspec>=2023.5.0 in /usr/local/lib/python3.10/dist-packages (from huggingface-hub>=0.4.0->sentence-transformers) (2023.6.0)\n",
            "Requirement already satisfied: requests in /usr/local/lib/python3.10/dist-packages (from huggingface-hub>=0.4.0->sentence-transformers) (2.31.0)\n",
            "Requirement already satisfied: pyyaml>=5.1 in /usr/local/lib/python3.10/dist-packages (from huggingface-hub>=0.4.0->sentence-transformers) (6.0.1)\n",
            "Requirement already satisfied: typing-extensions>=3.7.4.3 in /usr/local/lib/python3.10/dist-packages (from huggingface-hub>=0.4.0->sentence-transformers) (4.5.0)\n",
            "Requirement already satisfied: packaging>=20.9 in /usr/local/lib/python3.10/dist-packages (from huggingface-hub>=0.4.0->sentence-transformers) (23.2)\n",
            "Requirement already satisfied: sympy in /usr/local/lib/python3.10/dist-packages (from torch>=1.6.0->sentence-transformers) (1.12)\n",
            "Requirement already satisfied: networkx in /usr/local/lib/python3.10/dist-packages (from torch>=1.6.0->sentence-transformers) (3.2.1)\n",
            "Requirement already satisfied: jinja2 in /usr/local/lib/python3.10/dist-packages (from torch>=1.6.0->sentence-transformers) (3.1.2)\n",
            "Requirement already satisfied: triton==2.1.0 in /usr/local/lib/python3.10/dist-packages (from torch>=1.6.0->sentence-transformers) (2.1.0)\n",
            "Requirement already satisfied: regex!=2019.12.17 in /usr/local/lib/python3.10/dist-packages (from transformers<5.0.0,>=4.6.0->sentence-transformers) (2023.6.3)\n",
            "Requirement already satisfied: tokenizers<0.19,>=0.14 in /usr/local/lib/python3.10/dist-packages (from transformers<5.0.0,>=4.6.0->sentence-transformers) (0.15.0)\n",
            "Requirement already satisfied: safetensors>=0.3.1 in /usr/local/lib/python3.10/dist-packages (from transformers<5.0.0,>=4.6.0->sentence-transformers) (0.4.1)\n",
            "Requirement already satisfied: click in /usr/local/lib/python3.10/dist-packages (from nltk->sentence-transformers) (8.1.7)\n",
            "Requirement already satisfied: joblib in /usr/local/lib/python3.10/dist-packages (from nltk->sentence-transformers) (1.3.2)\n",
            "Requirement already satisfied: threadpoolctl>=2.0.0 in /usr/local/lib/python3.10/dist-packages (from scikit-learn->sentence-transformers) (3.2.0)\n",
            "Requirement already satisfied: pillow!=8.3.*,>=5.3.0 in /usr/local/lib/python3.10/dist-packages (from torchvision->sentence-transformers) (9.4.0)\n",
            "Requirement already satisfied: MarkupSafe>=2.0 in /usr/local/lib/python3.10/dist-packages (from jinja2->torch>=1.6.0->sentence-transformers) (2.1.3)\n",
            "Requirement already satisfied: charset-normalizer<4,>=2 in /usr/local/lib/python3.10/dist-packages (from requests->huggingface-hub>=0.4.0->sentence-transformers) (3.3.2)\n",
            "Requirement already satisfied: idna<4,>=2.5 in /usr/local/lib/python3.10/dist-packages (from requests->huggingface-hub>=0.4.0->sentence-transformers) (3.6)\n",
            "Requirement already satisfied: urllib3<3,>=1.21.1 in /usr/local/lib/python3.10/dist-packages (from requests->huggingface-hub>=0.4.0->sentence-transformers) (2.0.7)\n",
            "Requirement already satisfied: certifi>=2017.4.17 in /usr/local/lib/python3.10/dist-packages (from requests->huggingface-hub>=0.4.0->sentence-transformers) (2023.11.17)\n",
            "Requirement already satisfied: mpmath>=0.19 in /usr/local/lib/python3.10/dist-packages (from sympy->torch>=1.6.0->sentence-transformers) (1.3.0)\n"
          ]
        }
      ]
    },
    {
      "cell_type": "code",
      "execution_count": 24,
      "id": "508cd3c9",
      "metadata": {
        "id": "508cd3c9"
      },
      "outputs": [],
      "source": [
        "from langchain.schema import HumanMessage, SystemMessage\n",
        "from langchain.chat_models.gigachat import GigaChat\n",
        "from langchain.chains import ConversationChain\n",
        "\n",
        "credits = 'GIGACHAT_API_KEY'\n",
        "\n",
        "llm = GigaChat(credentials=credits, verify_ssl_certs=False,\n",
        "              temepature=0.7)\n",
        "\n",
        "messages = [\n",
        "    SystemMessage(\n",
        "        content=\"Ты эмпатичный бот-фармацевт, который должен помогать пользователям решать их проблемы, \\\n",
        "        руководствуясь своими знаниями или документацией. Будь аккуратен в своих ответах, рассуждай шаг за шагом. \\\n",
        "        Всегда рекомендуй в конце своего ответа обращение к настоящим специалистам\"\n",
        "    )\n",
        "]"
      ]
    },
    {
      "cell_type": "code",
      "execution_count": 8,
      "id": "33b3b7f1",
      "metadata": {
        "id": "33b3b7f1"
      },
      "outputs": [],
      "source": [
        "from langchain.docstore.base import Document\n",
        "from langchain.vectorstores.faiss import FAISS\n",
        "from langchain.embeddings import HuggingFaceEmbeddings\n",
        "from langchain.retrievers import EnsembleRetriever, BM25Retriever\n",
        "from typing import List, Coroutine, Any\n",
        "\n",
        "class HuggingFaceE5Embeddings(HuggingFaceEmbeddings):\n",
        "    def embed_query(self, text: str) -> List[float]:\n",
        "        text = f\"query: {text}\"\n",
        "        return super().embed_query(text)\n",
        "\n",
        "    def embed_documents(self, texts: List[str]) -> List[List[float]]:\n",
        "        texts = [f\"passage: {text}\" for text in texts]\n",
        "        return super().embed_documents(texts)\n",
        "\n",
        "    async def aembed_query(self, text: str) -> Coroutine[Any, Any, List[float]]:\n",
        "        text = f\"query: {text}\"\n",
        "        return await super().aembed_query(text)\n",
        "\n",
        "    async def aembed_documents(\n",
        "        self, texts: List[str]\n",
        "    ) -> Coroutine[Any, Any, List[List[float]]]:\n",
        "        texts = [f\"passage: {text}\" for text in texts]\n",
        "        return await super().aembed_documents(texts)\n",
        "\n",
        "embedding = HuggingFaceE5Embeddings(model_name=\"intfloat/multilingual-e5-base\")"
      ]
    },
    {
      "cell_type": "code",
      "source": [
        "!curl -o eapteka.zip -L 'https://drive.google.com/uc?export=download&confirm=yes&id=1BCHumRj66oQ6HXim-fAQCVUVqwmcHFm1'\n",
        "!unzip eapteka.zip"
      ],
      "metadata": {
        "colab": {
          "base_uri": "https://localhost:8080/"
        },
        "id": "DMr9E32wbRQ8",
        "outputId": "0bb573d6-f060-4675-ba72-b13e96b13540"
      },
      "id": "DMr9E32wbRQ8",
      "execution_count": 9,
      "outputs": [
        {
          "output_type": "stream",
          "name": "stdout",
          "text": [
            "  % Total    % Received % Xferd  Average Speed   Time    Time     Time  Current\n",
            "                                 Dload  Upload   Total   Spent    Left  Speed\n",
            "  0     0    0     0    0     0      0      0 --:--:--  0:00:01 --:--:--     0\n",
            "100  924k  100  924k    0     0   470k      0  0:00:01  0:00:01 --:--:--  470k\n",
            "Archive:  eapteka.zip\n",
            "replace eapteka_emb/eapteka_emb/index(1).faiss? [y]es, [n]o, [A]ll, [N]one, [r]ename: y\n",
            "  inflating: eapteka_emb/eapteka_emb/index(1).faiss  \n",
            "replace eapteka_emb/eapteka_emb/index(1).pkl? [y]es, [n]o, [A]ll, [N]one, [r]ename: y\n",
            "  inflating: eapteka_emb/eapteka_emb/index(1).pkl  \n",
            "replace eapteka_emb/eapteka_emb/index.faiss? [y]es, [n]o, [A]ll, [N]one, [r]ename: y\n",
            "  inflating: eapteka_emb/eapteka_emb/index.faiss  \n",
            "replace eapteka_emb/eapteka_emb/index.pkl? [y]es, [n]o, [A]ll, [N]one, [r]ename: y\n",
            "  inflating: eapteka_emb/eapteka_emb/index.pkl  \n"
          ]
        }
      ]
    },
    {
      "cell_type": "code",
      "source": [
        "!curl -o english_vectorize.zip -L 'https://drive.google.com/uc?export=download&confirm=yes&id=1FKCqzV3OIoOa0qnGyGSnjYpC2SE_ur73'\n",
        "!unzip english_vectorize.zip"
      ],
      "metadata": {
        "colab": {
          "base_uri": "https://localhost:8080/"
        },
        "id": "WOBA5P1Pbfus",
        "outputId": "3290a801-683e-4a67-ce4a-1a3c480df7c8"
      },
      "id": "WOBA5P1Pbfus",
      "execution_count": 10,
      "outputs": [
        {
          "output_type": "stream",
          "name": "stdout",
          "text": [
            "  % Total    % Received % Xferd  Average Speed   Time    Time     Time  Current\n",
            "                                 Dload  Upload   Total   Spent    Left  Speed\n",
            "  0     0    0     0    0     0      0      0 --:--:--  0:00:01 --:--:--     0\n",
            "100  754M  100  754M    0     0   111M      0  0:00:06  0:00:06 --:--:--  161M\n",
            "Archive:  english_vectorize.zip\n",
            "replace eng_dataset_vectorized/eng_dataset_vectorized/index.faiss? [y]es, [n]o, [A]ll, [N]one, [r]ename: y\n",
            "  inflating: eng_dataset_vectorized/eng_dataset_vectorized/index.faiss  y\n",
            "\n",
            "replace eng_dataset_vectorized/eng_dataset_vectorized/index.pkl? [y]es, [n]o, [A]ll, [N]one, [r]ename:   inflating: eng_dataset_vectorized/eng_dataset_vectorized/index.pkl  y\n",
            "\n"
          ]
        }
      ]
    },
    {
      "cell_type": "code",
      "source": [
        "!curl -o ru_vectorize_dataset.zip -L 'https://drive.google.com/uc?export=download&confirm=yes&id=1Nj5iLw4nWJBrqq0e1oFB8YpH9HBds4rl'\n",
        "!unzip ru_vectorize_dataset.zip"
      ],
      "metadata": {
        "colab": {
          "base_uri": "https://localhost:8080/"
        },
        "id": "i3GKYyXOZQLV",
        "outputId": "2afc0a97-af9b-4dda-d149-33d722a9f0a9"
      },
      "id": "i3GKYyXOZQLV",
      "execution_count": 11,
      "outputs": [
        {
          "output_type": "stream",
          "name": "stdout",
          "text": [
            "  % Total    % Received % Xferd  Average Speed   Time    Time     Time  Current\n",
            "                                 Dload  Upload   Total   Spent    Left  Speed\n",
            "  0     0    0     0    0     0      0      0 --:--:--  0:00:01 --:--:--     0\n",
            "100  652M  100  652M    0     0  78.4M      0  0:00:08  0:00:08 --:--:--  101M\n",
            "Archive:  ru_vectorize_dataset.zip\n",
            "replace ru_qa/ru_qa/index.faiss? [y]es, [n]o, [A]ll, [N]one, [r]ename: y\n",
            "  inflating: ru_qa/ru_qa/index.faiss  y\n",
            "y\n",
            "\n",
            "replace ru_qa/ru_qa/index.pkl? [y]es, [n]o, [A]ll, [N]one, [r]ename:   inflating: ru_qa/ru_qa/index.pkl   \n"
          ]
        }
      ]
    },
    {
      "cell_type": "code",
      "execution_count": 12,
      "id": "a68be58c",
      "metadata": {
        "id": "a68be58c"
      },
      "outputs": [],
      "source": [
        "db = FAISS.load_local('/content/ru_qa/ru_qa', embedding)\n",
        "db_eng = FAISS.load_local('/content/eng_dataset_vectorized/eng_dataset_vectorized', embedding)\n",
        "db_eapteka = FAISS.load_local('/content/eapteka_emb/eapteka_emb', embedding)"
      ]
    },
    {
      "cell_type": "code",
      "source": [
        "db.merge_from(db_eng)\n",
        "db.merge_from(db_eapteka)"
      ],
      "metadata": {
        "id": "dM7mOGioZiGb"
      },
      "id": "dM7mOGioZiGb",
      "execution_count": 13,
      "outputs": []
    },
    {
      "cell_type": "code",
      "execution_count": 14,
      "id": "d410f2b6",
      "metadata": {
        "id": "d410f2b6"
      },
      "outputs": [],
      "source": [
        "all_retriever = db.as_retriever(search_kwargs={\"k\": 3})\n",
        "#eng_retriever = db_eng.as_retriever(search_kwargs={'k': 2})\n",
        "#eapteka_retriever = db_eapteka.as_retriever(search_kwargs={'k': 3})\n"
      ]
    },
    {
      "cell_type": "markdown",
      "source": [
        "## Тестирование"
      ],
      "metadata": {
        "id": "om-Nt_7hSgpz"
      },
      "id": "om-Nt_7hSgpz"
    },
    {
      "cell_type": "code",
      "execution_count": null,
      "id": "acca321d",
      "metadata": {
        "colab": {
          "base_uri": "https://localhost:8080/",
          "height": 757
        },
        "id": "acca321d",
        "outputId": "e7803448-2673-4cfa-c100-05bd5c1f37ce"
      },
      "outputs": [
        {
          "output_type": "stream",
          "name": "stdout",
          "text": [
            "<class 'langchain_core.messages.human.HumanMessage'>Что делать если меня укусил шмель?\n",
            "Bot: Если вас укунул шмель, то следует принять следующие меры:\n",
            "\n",
            "1. Немедленно удалите жало шмеля из кожи.\n",
            "2. Промывайте укус холодной водой в течение 10-15 минут. Это поможет снять отек и уменьшить боль.\n",
            "3. Примените лед или холодный компресс на укус для снятия боли и воспаления.\n",
            "4. Нанесите на укус антигистаминное средство или крем от укусов насекомых, чтобы снизить зуд и предотвратить возникновение аллергической реакции.\n",
            "5. Если у вас возникла аллергическая реакция, немедленно обратитесь за медицинской помощью.\n",
            "\n",
            "Важно помнить, что некоторые люди могут иметь аллергическую реакцию на укусы шмелей, поэтому если вы заметили сильную реакцию или отек, обратитесь к врачу.\n",
            "<class 'langchain_core.messages.human.HumanMessage'>Что делать если меня укусил шмель?\n",
            "Bot: Если вас укусил шмель, то следует принять следующие меры:\n",
            "\n",
            "1. Остановите любую активность, чтобы избежать дальнейшего распространения яда.\n",
            "2. Немедленно удалите жало, если оно осталось в вашей коже.\n",
            "3. Приложите лед или холодный компресс к месту укуса, чтобы снизить отек и болезненность.\n",
            "4. Примените антигистаминное средство, такое как крем от укусов насекомых или антигистаминный препарат внутрь, чтобы снизить аллергическую реакцию.\n",
            "5. Если вы испытываете сильную боль, отек или затрудненное дыхание, обратитесь за медицинской помощью.\n",
            "\n",
            "Однако, если ваши симптомы становятся серьезными или не улучшаются после применения первой помощи, рекомендуется обратиться к врачу для дополнительной консультации и лечения.\n"
          ]
        },
        {
          "output_type": "error",
          "ename": "KeyboardInterrupt",
          "evalue": "ignored",
          "traceback": [
            "\u001b[0;31m---------------------------------------------------------------------------\u001b[0m",
            "\u001b[0;31mKeyboardInterrupt\u001b[0m                         Traceback (most recent call last)",
            "\u001b[0;32m<ipython-input-14-f89e36763f05>\u001b[0m in \u001b[0;36m<cell line: 21>\u001b[0;34m()\u001b[0m\n\u001b[1;32m     20\u001b[0m )\n\u001b[1;32m     21\u001b[0m \u001b[0;32mwhile\u001b[0m \u001b[0;32mTrue\u001b[0m\u001b[0;34m:\u001b[0m\u001b[0;34m\u001b[0m\u001b[0;34m\u001b[0m\u001b[0m\n\u001b[0;32m---> 22\u001b[0;31m     \u001b[0mquery\u001b[0m \u001b[0;34m=\u001b[0m \u001b[0minput\u001b[0m\u001b[0;34m(\u001b[0m\u001b[0mHumanMessage\u001b[0m\u001b[0;34m)\u001b[0m\u001b[0;34m\u001b[0m\u001b[0;34m\u001b[0m\u001b[0m\n\u001b[0m\u001b[1;32m     23\u001b[0m     \u001b[0minvoke\u001b[0m \u001b[0;34m=\u001b[0m \u001b[0mqa\u001b[0m\u001b[0;34m.\u001b[0m\u001b[0minvoke\u001b[0m\u001b[0;34m(\u001b[0m\u001b[0;34m{\u001b[0m\u001b[0;34m'query'\u001b[0m\u001b[0;34m:\u001b[0m \u001b[0mquery\u001b[0m\u001b[0;34m}\u001b[0m\u001b[0;34m)\u001b[0m\u001b[0;34m[\u001b[0m\u001b[0;34m'source_documents'\u001b[0m\u001b[0;34m]\u001b[0m\u001b[0;34m\u001b[0m\u001b[0;34m\u001b[0m\u001b[0m\n\u001b[1;32m     24\u001b[0m     \u001b[0minformation\u001b[0m \u001b[0;34m=\u001b[0m \u001b[0;34m[\u001b[0m\u001b[0minvoke\u001b[0m\u001b[0;34m[\u001b[0m\u001b[0mx\u001b[0m\u001b[0;34m]\u001b[0m\u001b[0;34m.\u001b[0m\u001b[0mpage_content\u001b[0m \u001b[0;32mfor\u001b[0m \u001b[0mx\u001b[0m \u001b[0;32min\u001b[0m \u001b[0mrange\u001b[0m\u001b[0;34m(\u001b[0m\u001b[0mlen\u001b[0m\u001b[0;34m(\u001b[0m\u001b[0minvoke\u001b[0m\u001b[0;34m)\u001b[0m\u001b[0;34m)\u001b[0m\u001b[0;34m]\u001b[0m\u001b[0;34m\u001b[0m\u001b[0;34m\u001b[0m\u001b[0m\n",
            "\u001b[0;32m/usr/local/lib/python3.10/dist-packages/ipykernel/kernelbase.py\u001b[0m in \u001b[0;36mraw_input\u001b[0;34m(self, prompt)\u001b[0m\n\u001b[1;32m    849\u001b[0m                 \u001b[0;34m\"raw_input was called, but this frontend does not support input requests.\"\u001b[0m\u001b[0;34m\u001b[0m\u001b[0;34m\u001b[0m\u001b[0m\n\u001b[1;32m    850\u001b[0m             )\n\u001b[0;32m--> 851\u001b[0;31m         return self._input_request(str(prompt),\n\u001b[0m\u001b[1;32m    852\u001b[0m             \u001b[0mself\u001b[0m\u001b[0;34m.\u001b[0m\u001b[0m_parent_ident\u001b[0m\u001b[0;34m,\u001b[0m\u001b[0;34m\u001b[0m\u001b[0;34m\u001b[0m\u001b[0m\n\u001b[1;32m    853\u001b[0m             \u001b[0mself\u001b[0m\u001b[0;34m.\u001b[0m\u001b[0m_parent_header\u001b[0m\u001b[0;34m,\u001b[0m\u001b[0;34m\u001b[0m\u001b[0;34m\u001b[0m\u001b[0m\n",
            "\u001b[0;32m/usr/local/lib/python3.10/dist-packages/ipykernel/kernelbase.py\u001b[0m in \u001b[0;36m_input_request\u001b[0;34m(self, prompt, ident, parent, password)\u001b[0m\n\u001b[1;32m    893\u001b[0m             \u001b[0;32mexcept\u001b[0m \u001b[0mKeyboardInterrupt\u001b[0m\u001b[0;34m:\u001b[0m\u001b[0;34m\u001b[0m\u001b[0;34m\u001b[0m\u001b[0m\n\u001b[1;32m    894\u001b[0m                 \u001b[0;31m# re-raise KeyboardInterrupt, to truncate traceback\u001b[0m\u001b[0;34m\u001b[0m\u001b[0;34m\u001b[0m\u001b[0m\n\u001b[0;32m--> 895\u001b[0;31m                 \u001b[0;32mraise\u001b[0m \u001b[0mKeyboardInterrupt\u001b[0m\u001b[0;34m(\u001b[0m\u001b[0;34m\"Interrupted by user\"\u001b[0m\u001b[0;34m)\u001b[0m \u001b[0;32mfrom\u001b[0m \u001b[0;32mNone\u001b[0m\u001b[0;34m\u001b[0m\u001b[0;34m\u001b[0m\u001b[0m\n\u001b[0m\u001b[1;32m    896\u001b[0m             \u001b[0;32mexcept\u001b[0m \u001b[0mException\u001b[0m \u001b[0;32mas\u001b[0m \u001b[0me\u001b[0m\u001b[0;34m:\u001b[0m\u001b[0;34m\u001b[0m\u001b[0;34m\u001b[0m\u001b[0m\n\u001b[1;32m    897\u001b[0m                 \u001b[0mself\u001b[0m\u001b[0;34m.\u001b[0m\u001b[0mlog\u001b[0m\u001b[0;34m.\u001b[0m\u001b[0mwarning\u001b[0m\u001b[0;34m(\u001b[0m\u001b[0;34m\"Invalid Message:\"\u001b[0m\u001b[0;34m,\u001b[0m \u001b[0mexc_info\u001b[0m\u001b[0;34m=\u001b[0m\u001b[0;32mTrue\u001b[0m\u001b[0;34m)\u001b[0m\u001b[0;34m\u001b[0m\u001b[0;34m\u001b[0m\u001b[0m\n",
            "\u001b[0;31mKeyboardInterrupt\u001b[0m: Interrupted by user"
          ]
        }
      ],
      "source": [
        "from langchain.chains import RetrievalQA\n",
        "from langchain.chains.router import MultiRetrievalQAChain\n",
        "\n",
        "llm = GigaChat(credentials=credits, verify_ssl_certs=False,\n",
        "              temepature=0.7)\n",
        "\n",
        "messages = [\n",
        "    SystemMessage(\n",
        "        content=\"Ты эмпатичный бот-фармацевт, который должен помогать пользователям решать их проблемы, \\\n",
        "        руководствуясь своими знаниями или документацией. Будь аккуратен в своих ответах, рассуждай шаг за шагом. \\\n",
        "        Всегда рекомендуй в конце своего ответа обращение к настоящим специалистам\"\n",
        "    )\n",
        "]\n",
        "\n",
        "qa = RetrievalQA.from_chain_type(\n",
        "    llm=llm,\n",
        "    chain_type=\"stuff\",\n",
        "    retriever=ru_retriever,\n",
        "    return_source_documents=True\n",
        ")\n",
        "while True:\n",
        "    query = input(HumanMessage)\n",
        "    invoke = qa.invoke({'query': query})['source_documents']\n",
        "    information = [invoke[x].page_content for x in range(len(invoke))]\n",
        "\n",
        "    source_knowledge = \"\\\\n\".join(information)\n",
        "\n",
        "    augmented_prompt = f\"\"\"Используя контекст ниже, ответь на вопрос, тщательно продумывая ответ шаг за шагом\n",
        "\n",
        "    Контекст:\n",
        "    {information}\n",
        "\n",
        "    Вопрос: {query}\"\"\"\n",
        "\n",
        "    prompt = HumanMessage(\n",
        "        content=augmented_prompt\n",
        "        )\n",
        "    messages.append(prompt)\n",
        "    res = llm(messages)\n",
        "    print(f\"Bot: {res.content}\")"
      ]
    },
    {
      "cell_type": "markdown",
      "source": [
        "## Bot"
      ],
      "metadata": {
        "id": "s5iZRcPrYsa9"
      },
      "id": "s5iZRcPrYsa9"
    },
    {
      "cell_type": "code",
      "execution_count": 15,
      "id": "16be7fbc",
      "metadata": {
        "colab": {
          "base_uri": "https://localhost:8080/"
        },
        "id": "16be7fbc",
        "outputId": "1833f76c-52bd-4af7-9368-4d69e19bbcd3"
      },
      "outputs": [
        {
          "output_type": "stream",
          "name": "stdout",
          "text": [
            "Requirement already satisfied: telebot in /usr/local/lib/python3.10/dist-packages (0.0.5)\n",
            "Requirement already satisfied: pyTelegramBotAPI in /usr/local/lib/python3.10/dist-packages (from telebot) (4.14.0)\n",
            "Requirement already satisfied: requests in /usr/local/lib/python3.10/dist-packages (from telebot) (2.31.0)\n",
            "Requirement already satisfied: charset-normalizer<4,>=2 in /usr/local/lib/python3.10/dist-packages (from requests->telebot) (3.3.2)\n",
            "Requirement already satisfied: idna<4,>=2.5 in /usr/local/lib/python3.10/dist-packages (from requests->telebot) (3.6)\n",
            "Requirement already satisfied: urllib3<3,>=1.21.1 in /usr/local/lib/python3.10/dist-packages (from requests->telebot) (2.0.7)\n",
            "Requirement already satisfied: certifi>=2017.4.17 in /usr/local/lib/python3.10/dist-packages (from requests->telebot) (2023.11.17)\n"
          ]
        }
      ],
      "source": [
        "!pip install telebot"
      ]
    },
    {
      "cell_type": "code",
      "source": [
        "def result(text):\n",
        "    docs = retriever.get_relevant_documents(query=text, lang=\"ru\")\n",
        "    return docs[0].metadata['summary']"
      ],
      "metadata": {
        "id": "MJ6UY_ppYyo8"
      },
      "id": "MJ6UY_ppYyo8",
      "execution_count": 16,
      "outputs": []
    },
    {
      "cell_type": "code",
      "source": [
        "from langchain.chains import RetrievalQA\n",
        "from langchain.llms.gigachat import GigaChat\n",
        "\n",
        "#ru_retriever.merge_from(db_english_data) # all data to one database\n",
        "\n",
        "def russian_qa_retrival(text):\n",
        "\n",
        "    messages = [\n",
        "    SystemMessage(\n",
        "        content=\"Ты эмпатичный бот-фармацевт, который должен помогать пользователям решать их проблемы, \\\n",
        "        руководствуясь своими знаниями или документацией. Будь аккуратен в своих ответах, рассуждай шаг за шагом. \\\n",
        "        Всегда рекомендуй в конце своего ответа обращение к настоящим специалистам\"\n",
        "    )\n",
        "    ]\n",
        "\n",
        "    qa = RetrievalQA.from_chain_type(\n",
        "    llm=llm,\n",
        "    chain_type=\"stuff\",\n",
        "    retriever=all_retriever,\n",
        "    return_source_documents=True\n",
        "    )\n",
        "\n",
        "    invoke = qa.invoke({'query': text})['source_documents']\n",
        "    information = [invoke[x].page_content for x in range(len(invoke))]\n",
        "\n",
        "    source_knowledge = \"\\\\n\".join(information)\n",
        "\n",
        "    augmented_prompt = f\"\"\"Используя контекст ниже, ответь на вопрос, тщательно продумывая ответ шаг за шагом\n",
        "\n",
        "    Контекст:\n",
        "    {source_knowledge}\n",
        "\n",
        "    Вопрос: {text}\"\"\"\n",
        "\n",
        "    prompt = HumanMessage(\n",
        "        content=augmented_prompt\n",
        "        )\n",
        "    messages.append(prompt)\n",
        "    res = llm(messages)\n",
        "    #print(f\"Bot: {res.content}\")\n",
        "\n",
        "    return res.content"
      ],
      "metadata": {
        "id": "tD7xIvMZY6ot"
      },
      "id": "tD7xIvMZY6ot",
      "execution_count": 23,
      "outputs": []
    },
    {
      "cell_type": "code",
      "source": [
        "import telebot\n",
        "from telebot import types\n",
        "\n",
        "bot = telebot.TeleBot(\"6912753145:AAGG0BoEMDmIyAdIS0TgFbc_XtQwpilenjg\")\n",
        "\n",
        "@bot.message_handler(commands=['start', 'help'])\n",
        "def send_welcome(message):\n",
        "    markup = types.InlineKeyboardMarkup(row_width=2)\n",
        "    item = types.InlineKeyboardButton('Поиск по препарату', callback_data='Поиск по препарату')\n",
        "    markup.add(item)\n",
        "    bot.send_message(message.chat.id, \"Приветствую, меня зовут Асклепий :) Я проконсультирую Вас по поводу лекарств, а также помогу Вам в любой ситуации. Вы можете выбрать нужную кнопку или задать мне любой вопрос!\", reply_markup=markup)\n",
        "\n",
        "@bot.callback_query_handler(func=lambda call: True)\n",
        "def callback(call):\n",
        "    if call.message:\n",
        "        if call.data == 'Поиск по препарату':\n",
        "            bot.edit_message_text(chat_id=call.message.chat.id,\n",
        "                                  message_id=call.message.id,\n",
        "                                  text='О каком лекарстве вам подробнее рассказать?')\n",
        "\n",
        "@bot.message_handler(func=lambda message: True)\n",
        "def handle_messages(message):\n",
        "    # Если в сообщении есть callback_query, значит это ответ на нажатие кнопки\n",
        "    if message.json.get('callback_query'):\n",
        "        handle_user_input(message)\n",
        "    else:\n",
        "        handle_general_questions(message)\n",
        "\n",
        "def handle_user_input(message):\n",
        "    # Здесь обрабатывается текст после нажатия кнопки\n",
        "    user_drug_name = message.text  # Ваш код для обработки названия препарата\n",
        "    bot.send_message(message.chat.id, f\"Спасибо'{user_drug_name}'. Получено! Генерирую ответ...\")\n",
        "    bot.send_message(message.chat.id, f\"{result(user_drug_name)}\")\n",
        "\n",
        "    # После ответа добавляем клавиатуру\n",
        "    markup = types.InlineKeyboardMarkup(row_width=2)\n",
        "\n",
        "    # После ответа добавляем клавиатуру\n",
        "    markup = types.InlineKeyboardMarkup(row_width=2)\n",
        "    item = types.InlineKeyboardButton('Поиск по препарату', callback_data='Поиск по препарату')\n",
        "    markup.add(item)\n",
        "    bot.send_message(message.chat.id, \"Чем я могу еще помочь? нажмите нужную кнопку или задайте мне любой вопрос!\", reply_markup=markup)\n",
        "\n",
        "def handle_general_questions(message):\n",
        "    bot.send_message(message.chat.id, 'Генерирую ответ...')\n",
        "    # Здесь обрабатываются общие вопросы, не связанные с нажатием кнопки\n",
        "    bot_answer = russian_qa_retrival(message.text)\n",
        "    bot.send_message(message.chat.id, bot_answer)\n",
        "\n",
        "    # После ответа добавляем клавиатуру\n",
        "    markup = types.InlineKeyboardMarkup(row_width=2)\n",
        "    item = types.InlineKeyboardButton('Поиск по препарату', callback_data='Поиск по препарату')\n",
        "    markup.add(item)\n",
        "    bot.send_message(message.chat.id, \"Чем я могу еще помочь? нажмите нужную кнопку или задайте мне любой вопрос!\", reply_markup=markup)\n",
        "\n",
        "bot.infinity_polling()"
      ],
      "metadata": {
        "colab": {
          "base_uri": "https://localhost:8080/"
        },
        "id": "4wUNUI8AeoRj",
        "outputId": "8647b4e4-1930-4f0a-a959-8fc23c0a424c"
      },
      "id": "4wUNUI8AeoRj",
      "execution_count": 25,
      "outputs": [
        {
          "output_type": "stream",
          "name": "stderr",
          "text": [
            "2023-12-03 08:20:08,160 (__init__.py:966 MainThread) ERROR - TeleBot: \"Infinity polling: polling exited\"\n",
            "ERROR:TeleBot:Infinity polling: polling exited\n",
            "2023-12-03 08:20:08,163 (__init__.py:968 MainThread) ERROR - TeleBot: \"Break infinity polling\"\n",
            "ERROR:TeleBot:Break infinity polling\n"
          ]
        }
      ]
    },
    {
      "cell_type": "code",
      "source": [],
      "metadata": {
        "id": "sZxKMC6TuEqj"
      },
      "id": "sZxKMC6TuEqj",
      "execution_count": null,
      "outputs": []
    }
  ],
  "metadata": {
    "kernelspec": {
      "display_name": "Python 3",
      "name": "python3"
    },
    "language_info": {
      "codemirror_mode": {
        "name": "ipython",
        "version": 3
      },
      "file_extension": ".py",
      "mimetype": "text/x-python",
      "name": "python",
      "nbconvert_exporter": "python",
      "pygments_lexer": "ipython3",
      "version": "3.11.5"
    },
    "colab": {
      "provenance": [],
      "machine_shape": "hm",
      "gpuType": "T4"
    },
    "accelerator": "GPU"
  },
  "nbformat": 4,
  "nbformat_minor": 5
}
